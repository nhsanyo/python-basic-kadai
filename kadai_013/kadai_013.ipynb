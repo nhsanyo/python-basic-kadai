{
  "nbformat": 4,
  "nbformat_minor": 0,
  "metadata": {
    "colab": {
      "provenance": []
    },
    "kernelspec": {
      "name": "python3",
      "display_name": "Python 3"
    },
    "language_info": {
      "name": "python"
    }
  },
  "cells": [
    {
      "cell_type": "code",
      "source": [
        "def cal(price,tax):\n",
        "\n",
        "  total = price*(1+tax/100)\n",
        "\n",
        "  print(f\"{int(total)}円\")\n",
        "\n",
        "\n",
        "cal(100,10)\n"
      ],
      "metadata": {
        "colab": {
          "base_uri": "https://localhost:8080/"
        },
        "id": "Up1agfjtL2UN",
        "outputId": "fb792150-7ced-4c45-875b-a1f36204e40d"
      },
      "execution_count": null,
      "outputs": [
        {
          "output_type": "stream",
          "name": "stdout",
          "text": [
            "110円\n"
          ]
        }
      ]
    }
  ]
}