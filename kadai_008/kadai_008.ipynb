{
  "nbformat": 4,
  "nbformat_minor": 0,
  "metadata": {
    "colab": {
      "provenance": []
    },
    "kernelspec": {
      "name": "python3",
      "display_name": "Python 3"
    },
    "language_info": {
      "name": "python"
    }
  },
  "cells": [
    {
      "cell_type": "code",
      "execution_count": 6,
      "metadata": {
        "colab": {
          "base_uri": "https://localhost:8080/"
        },
        "id": "o2Ht0A9WGEk1",
        "outputId": "fdbc5aaa-bf4a-4a7a-8fb3-89a18eaef18e"
      },
      "outputs": [
        {
          "output_type": "stream",
          "name": "stdout",
          "text": [
            "Fizz\n"
          ]
        }
      ],
      "source": [
        "import random\n",
        "var = random.randint(1,100)\n",
        "\n",
        "if var%3==0 and var%5==0:\n",
        "    print(\"FizzBuzz\")\n",
        "elif var%3==0:\n",
        "    print(\"Fizz\")\n",
        "\n",
        "elif var%5==0:\n",
        "    print(\"Buzz\")\n",
        "\n",
        "else:\n",
        "    print(var)\n",
        "\n"
      ]
    }
  ]
}