{
  "nbformat": 4,
  "nbformat_minor": 0,
  "metadata": {
    "colab": {
      "provenance": []
    },
    "kernelspec": {
      "name": "python3",
      "display_name": "Python 3"
    },
    "language_info": {
      "name": "python"
    }
  },
  "cells": [
    {
      "cell_type": "code",
      "execution_count": 3,
      "metadata": {
        "colab": {
          "base_uri": "https://localhost:8080/"
        },
        "id": "3ecOPeIeABoL",
        "outputId": "555257b2-1439-4b95-c3d3-401c06273eb3"
      },
      "outputs": [
        {
          "output_type": "stream",
          "name": "stdout",
          "text": [
            "75.0cm²\n"
          ]
        }
      ],
      "source": [
        "\n",
        "a = 10\n",
        "b = 20\n",
        "h = 5\n",
        "\n",
        "s = (a+b)*h/2\n",
        "\n",
        "print(str(s)+\"cm²\")\n",
        "\n"
      ]
    }
  ]
}